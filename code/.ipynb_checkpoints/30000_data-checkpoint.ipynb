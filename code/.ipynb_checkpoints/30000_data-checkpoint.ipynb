{
 "cells": [
  {
   "cell_type": "markdown",
   "id": "e29ced27-f922-40e1-b88e-a6c60626214f",
   "metadata": {},
   "source": [
    "# データ数を10万→3万程度に減らすコード"
   ]
  },
  {
   "cell_type": "code",
   "execution_count": 42,
   "id": "3218ab0b-bd0f-4de3-9f15-3b40d4937eb3",
   "metadata": {},
   "outputs": [],
   "source": [
    "import pandas as pd\n",
    "#データ取得\n",
    "df = pd.read_csv(\"../data/train.csv\").drop(\"Unnamed: 0\", axis=1).dropna()\n",
    "#データ分割\n",
    "eco = df.query('Class == \"Eco\"')\n",
    "eco_plus = df.query('Class == \"Eco Plus\"')\n",
    "business= df.query('Class == \"Business\"')\n",
    "#データ数削減\n",
    "eco_new = eco.sample(n=11500, random_state=42)\n",
    "business_new = business.sample(n=11500, random_state=42)\n",
    "#データを結合\n",
    "df_new = pd.concat([eco_new, business_new, eco_plus], axis=0)\n",
    "#クラスの割合を確認\n",
    "df_new[\"Class\"].value_counts()"
   ]
  },
  {
   "cell_type": "markdown",
   "id": "794e1b5c-e74c-427c-b9f3-b410060e7a6d",
   "metadata": {},
   "source": [
    "# 以下は実施した手順"
   ]
  },
  {
   "cell_type": "code",
   "execution_count": 31,
   "id": "eccc3aad-2e9a-4a17-a533-bca603b3eaeb",
   "metadata": {},
   "outputs": [
    {
     "data": {
      "text/html": [
       "<div>\n",
       "<style scoped>\n",
       "    .dataframe tbody tr th:only-of-type {\n",
       "        vertical-align: middle;\n",
       "    }\n",
       "\n",
       "    .dataframe tbody tr th {\n",
       "        vertical-align: top;\n",
       "    }\n",
       "\n",
       "    .dataframe thead th {\n",
       "        text-align: right;\n",
       "    }\n",
       "</style>\n",
       "<table border=\"1\" class=\"dataframe\">\n",
       "  <thead>\n",
       "    <tr style=\"text-align: right;\">\n",
       "      <th></th>\n",
       "      <th>id</th>\n",
       "      <th>Gender</th>\n",
       "      <th>Customer Type</th>\n",
       "      <th>Age</th>\n",
       "      <th>Type of Travel</th>\n",
       "      <th>Class</th>\n",
       "      <th>Flight Distance</th>\n",
       "      <th>Inflight wifi service</th>\n",
       "      <th>Departure/Arrival time convenient</th>\n",
       "      <th>Ease of Online booking</th>\n",
       "      <th>...</th>\n",
       "      <th>Inflight entertainment</th>\n",
       "      <th>On-board service</th>\n",
       "      <th>Leg room service</th>\n",
       "      <th>Baggage handling</th>\n",
       "      <th>Checkin service</th>\n",
       "      <th>Inflight service</th>\n",
       "      <th>Cleanliness</th>\n",
       "      <th>Departure Delay in Minutes</th>\n",
       "      <th>Arrival Delay in Minutes</th>\n",
       "      <th>satisfaction</th>\n",
       "    </tr>\n",
       "  </thead>\n",
       "  <tbody>\n",
       "    <tr>\n",
       "      <th>0</th>\n",
       "      <td>70172</td>\n",
       "      <td>Male</td>\n",
       "      <td>Loyal Customer</td>\n",
       "      <td>13</td>\n",
       "      <td>Personal Travel</td>\n",
       "      <td>Eco Plus</td>\n",
       "      <td>460</td>\n",
       "      <td>3</td>\n",
       "      <td>4</td>\n",
       "      <td>3</td>\n",
       "      <td>...</td>\n",
       "      <td>5</td>\n",
       "      <td>4</td>\n",
       "      <td>3</td>\n",
       "      <td>4</td>\n",
       "      <td>4</td>\n",
       "      <td>5</td>\n",
       "      <td>5</td>\n",
       "      <td>25</td>\n",
       "      <td>18.0</td>\n",
       "      <td>neutral or dissatisfied</td>\n",
       "    </tr>\n",
       "    <tr>\n",
       "      <th>1</th>\n",
       "      <td>5047</td>\n",
       "      <td>Male</td>\n",
       "      <td>disloyal Customer</td>\n",
       "      <td>25</td>\n",
       "      <td>Business travel</td>\n",
       "      <td>Business</td>\n",
       "      <td>235</td>\n",
       "      <td>3</td>\n",
       "      <td>2</td>\n",
       "      <td>3</td>\n",
       "      <td>...</td>\n",
       "      <td>1</td>\n",
       "      <td>1</td>\n",
       "      <td>5</td>\n",
       "      <td>3</td>\n",
       "      <td>1</td>\n",
       "      <td>4</td>\n",
       "      <td>1</td>\n",
       "      <td>1</td>\n",
       "      <td>6.0</td>\n",
       "      <td>neutral or dissatisfied</td>\n",
       "    </tr>\n",
       "    <tr>\n",
       "      <th>2</th>\n",
       "      <td>110028</td>\n",
       "      <td>Female</td>\n",
       "      <td>Loyal Customer</td>\n",
       "      <td>26</td>\n",
       "      <td>Business travel</td>\n",
       "      <td>Business</td>\n",
       "      <td>1142</td>\n",
       "      <td>2</td>\n",
       "      <td>2</td>\n",
       "      <td>2</td>\n",
       "      <td>...</td>\n",
       "      <td>5</td>\n",
       "      <td>4</td>\n",
       "      <td>3</td>\n",
       "      <td>4</td>\n",
       "      <td>4</td>\n",
       "      <td>4</td>\n",
       "      <td>5</td>\n",
       "      <td>0</td>\n",
       "      <td>0.0</td>\n",
       "      <td>satisfied</td>\n",
       "    </tr>\n",
       "  </tbody>\n",
       "</table>\n",
       "<p>3 rows × 24 columns</p>\n",
       "</div>"
      ],
      "text/plain": [
       "       id  Gender      Customer Type  Age   Type of Travel     Class  \\\n",
       "0   70172    Male     Loyal Customer   13  Personal Travel  Eco Plus   \n",
       "1    5047    Male  disloyal Customer   25  Business travel  Business   \n",
       "2  110028  Female     Loyal Customer   26  Business travel  Business   \n",
       "\n",
       "   Flight Distance  Inflight wifi service  Departure/Arrival time convenient  \\\n",
       "0              460                      3                                  4   \n",
       "1              235                      3                                  2   \n",
       "2             1142                      2                                  2   \n",
       "\n",
       "   Ease of Online booking  ...  Inflight entertainment  On-board service  \\\n",
       "0                       3  ...                       5                 4   \n",
       "1                       3  ...                       1                 1   \n",
       "2                       2  ...                       5                 4   \n",
       "\n",
       "   Leg room service  Baggage handling  Checkin service  Inflight service  \\\n",
       "0                 3                 4                4                 5   \n",
       "1                 5                 3                1                 4   \n",
       "2                 3                 4                4                 4   \n",
       "\n",
       "   Cleanliness  Departure Delay in Minutes  Arrival Delay in Minutes  \\\n",
       "0            5                          25                      18.0   \n",
       "1            1                           1                       6.0   \n",
       "2            5                           0                       0.0   \n",
       "\n",
       "              satisfaction  \n",
       "0  neutral or dissatisfied  \n",
       "1  neutral or dissatisfied  \n",
       "2                satisfied  \n",
       "\n",
       "[3 rows x 24 columns]"
      ]
     },
     "execution_count": 31,
     "metadata": {},
     "output_type": "execute_result"
    }
   ],
   "source": [
    "df = pd.read_csv(\"../data/train.csv\").drop(\"Unnamed: 0\", axis=1).dropna()#.sample(n=10000, random_state=42)\n",
    "df.head(3)"
   ]
  },
  {
   "cell_type": "markdown",
   "id": "1f03d3bf-a357-4ea0-9d51-62caf282111b",
   "metadata": {},
   "source": [
    "##　各クラスにデータを分ける"
   ]
  },
  {
   "cell_type": "code",
   "execution_count": 33,
   "id": "9c4ce4e0-de75-45a8-875c-df4143bd946e",
   "metadata": {},
   "outputs": [],
   "source": [
    "eco = df.query('Class == \"Eco\"')\n",
    "eco_plus = df.query('Class == \"Eco Plus\"')\n",
    "business= df.query('Class == \"Business\"')"
   ]
  },
  {
   "cell_type": "markdown",
   "id": "d4db5624-0283-43e0-8370-dfb02ad82cdd",
   "metadata": {},
   "source": [
    "## データ数を減らす"
   ]
  },
  {
   "cell_type": "markdown",
   "id": "70f8bc21-322a-4e08-832f-779404a3922e",
   "metadata": {},
   "source": [
    "### Ecoクラス"
   ]
  },
  {
   "cell_type": "code",
   "execution_count": 34,
   "id": "897bac49-8fc0-449f-9963-6f5ddd0658cb",
   "metadata": {},
   "outputs": [
    {
     "data": {
      "text/plain": [
       "(46593, 24)"
      ]
     },
     "execution_count": 34,
     "metadata": {},
     "output_type": "execute_result"
    }
   ],
   "source": [
    "eco.shape"
   ]
  },
  {
   "cell_type": "code",
   "execution_count": 35,
   "id": "ecdd3bcb-ab49-4626-a9e7-e69be32b6d4d",
   "metadata": {},
   "outputs": [
    {
     "data": {
      "text/plain": [
       "(11500, 24)"
      ]
     },
     "execution_count": 35,
     "metadata": {},
     "output_type": "execute_result"
    }
   ],
   "source": [
    "eco = eco.sample(n=11500, random_state=42)\n",
    "eco.shape"
   ]
  },
  {
   "cell_type": "markdown",
   "id": "e82fefd6-42fe-48f5-884c-957d56cdfc70",
   "metadata": {},
   "source": [
    "### Businessクラス "
   ]
  },
  {
   "cell_type": "code",
   "execution_count": 36,
   "id": "d891a69a-bd0e-4a86-bb9b-01b77aaf3007",
   "metadata": {},
   "outputs": [
    {
     "data": {
      "text/plain": [
       "(49533, 24)"
      ]
     },
     "execution_count": 36,
     "metadata": {},
     "output_type": "execute_result"
    }
   ],
   "source": [
    "business.shape"
   ]
  },
  {
   "cell_type": "code",
   "execution_count": 37,
   "id": "b27a6a18-0664-40b3-b8a2-d0f9f1e3a86c",
   "metadata": {},
   "outputs": [
    {
     "data": {
      "text/plain": [
       "(11500, 24)"
      ]
     },
     "execution_count": 37,
     "metadata": {},
     "output_type": "execute_result"
    }
   ],
   "source": [
    "business = business.sample(n=11500, random_state=42)\n",
    "business.shape"
   ]
  },
  {
   "cell_type": "markdown",
   "id": "32ff9de2-b12d-400f-9fe6-4b457d6fa330",
   "metadata": {},
   "source": [
    "### Eco plus"
   ]
  },
  {
   "cell_type": "code",
   "execution_count": 38,
   "id": "9fc86d96-2515-4cee-8b3a-dde0fa9607ee",
   "metadata": {},
   "outputs": [
    {
     "data": {
      "text/plain": [
       "(7468, 24)"
      ]
     },
     "execution_count": 38,
     "metadata": {},
     "output_type": "execute_result"
    }
   ],
   "source": [
    "eco_plus.shape"
   ]
  },
  {
   "cell_type": "markdown",
   "id": "55910d73-b4a8-4432-91e7-c9a486945d33",
   "metadata": {},
   "source": [
    "## データを結合"
   ]
  },
  {
   "cell_type": "code",
   "execution_count": 39,
   "id": "075a4aeb-cf6c-4029-b4a0-9798a9d79fe5",
   "metadata": {},
   "outputs": [
    {
     "data": {
      "text/plain": [
       "(30468, 24)"
      ]
     },
     "execution_count": 39,
     "metadata": {},
     "output_type": "execute_result"
    }
   ],
   "source": [
    "df_new = pd.concat([eco, business, eco_plus], axis=0)\n",
    "df_new.shape"
   ]
  },
  {
   "cell_type": "code",
   "execution_count": 40,
   "id": "2289e728-5b28-4ebb-b3e7-a2367677ea83",
   "metadata": {},
   "outputs": [
    {
     "data": {
      "text/plain": [
       "Class\n",
       "Eco         11500\n",
       "Business    11500\n",
       "Eco Plus     7468\n",
       "Name: count, dtype: int64"
      ]
     },
     "execution_count": 40,
     "metadata": {},
     "output_type": "execute_result"
    }
   ],
   "source": [
    "df_new[\"Class\"].value_counts()"
   ]
  },
  {
   "cell_type": "code",
   "execution_count": 41,
   "id": "9170f4d5-cc87-4912-b4c0-f905331bc3b3",
   "metadata": {},
   "outputs": [
    {
     "data": {
      "text/html": [
       "<div>\n",
       "<style scoped>\n",
       "    .dataframe tbody tr th:only-of-type {\n",
       "        vertical-align: middle;\n",
       "    }\n",
       "\n",
       "    .dataframe tbody tr th {\n",
       "        vertical-align: top;\n",
       "    }\n",
       "\n",
       "    .dataframe thead th {\n",
       "        text-align: right;\n",
       "    }\n",
       "</style>\n",
       "<table border=\"1\" class=\"dataframe\">\n",
       "  <thead>\n",
       "    <tr style=\"text-align: right;\">\n",
       "      <th></th>\n",
       "      <th>id</th>\n",
       "      <th>Gender</th>\n",
       "      <th>Customer Type</th>\n",
       "      <th>Age</th>\n",
       "      <th>Type of Travel</th>\n",
       "      <th>Class</th>\n",
       "      <th>Flight Distance</th>\n",
       "      <th>Inflight wifi service</th>\n",
       "      <th>Departure/Arrival time convenient</th>\n",
       "      <th>Ease of Online booking</th>\n",
       "      <th>...</th>\n",
       "      <th>Inflight entertainment</th>\n",
       "      <th>On-board service</th>\n",
       "      <th>Leg room service</th>\n",
       "      <th>Baggage handling</th>\n",
       "      <th>Checkin service</th>\n",
       "      <th>Inflight service</th>\n",
       "      <th>Cleanliness</th>\n",
       "      <th>Departure Delay in Minutes</th>\n",
       "      <th>Arrival Delay in Minutes</th>\n",
       "      <th>satisfaction</th>\n",
       "    </tr>\n",
       "  </thead>\n",
       "  <tbody>\n",
       "    <tr>\n",
       "      <th>85208</th>\n",
       "      <td>123908</td>\n",
       "      <td>Female</td>\n",
       "      <td>Loyal Customer</td>\n",
       "      <td>69</td>\n",
       "      <td>Personal Travel</td>\n",
       "      <td>Eco</td>\n",
       "      <td>546</td>\n",
       "      <td>2</td>\n",
       "      <td>5</td>\n",
       "      <td>2</td>\n",
       "      <td>...</td>\n",
       "      <td>4</td>\n",
       "      <td>4</td>\n",
       "      <td>2</td>\n",
       "      <td>4</td>\n",
       "      <td>4</td>\n",
       "      <td>4</td>\n",
       "      <td>2</td>\n",
       "      <td>0</td>\n",
       "      <td>0.0</td>\n",
       "      <td>neutral or dissatisfied</td>\n",
       "    </tr>\n",
       "    <tr>\n",
       "      <th>31633</th>\n",
       "      <td>107130</td>\n",
       "      <td>Male</td>\n",
       "      <td>Loyal Customer</td>\n",
       "      <td>31</td>\n",
       "      <td>Personal Travel</td>\n",
       "      <td>Eco</td>\n",
       "      <td>842</td>\n",
       "      <td>3</td>\n",
       "      <td>5</td>\n",
       "      <td>3</td>\n",
       "      <td>...</td>\n",
       "      <td>1</td>\n",
       "      <td>4</td>\n",
       "      <td>3</td>\n",
       "      <td>5</td>\n",
       "      <td>5</td>\n",
       "      <td>4</td>\n",
       "      <td>1</td>\n",
       "      <td>35</td>\n",
       "      <td>16.0</td>\n",
       "      <td>neutral or dissatisfied</td>\n",
       "    </tr>\n",
       "    <tr>\n",
       "      <th>10425</th>\n",
       "      <td>69734</td>\n",
       "      <td>Female</td>\n",
       "      <td>Loyal Customer</td>\n",
       "      <td>62</td>\n",
       "      <td>Personal Travel</td>\n",
       "      <td>Eco</td>\n",
       "      <td>1372</td>\n",
       "      <td>3</td>\n",
       "      <td>4</td>\n",
       "      <td>2</td>\n",
       "      <td>...</td>\n",
       "      <td>1</td>\n",
       "      <td>1</td>\n",
       "      <td>2</td>\n",
       "      <td>1</td>\n",
       "      <td>3</td>\n",
       "      <td>1</td>\n",
       "      <td>4</td>\n",
       "      <td>0</td>\n",
       "      <td>0.0</td>\n",
       "      <td>neutral or dissatisfied</td>\n",
       "    </tr>\n",
       "    <tr>\n",
       "      <th>64557</th>\n",
       "      <td>99343</td>\n",
       "      <td>Female</td>\n",
       "      <td>disloyal Customer</td>\n",
       "      <td>41</td>\n",
       "      <td>Business travel</td>\n",
       "      <td>Eco</td>\n",
       "      <td>1771</td>\n",
       "      <td>3</td>\n",
       "      <td>3</td>\n",
       "      <td>3</td>\n",
       "      <td>...</td>\n",
       "      <td>2</td>\n",
       "      <td>4</td>\n",
       "      <td>4</td>\n",
       "      <td>2</td>\n",
       "      <td>3</td>\n",
       "      <td>4</td>\n",
       "      <td>2</td>\n",
       "      <td>20</td>\n",
       "      <td>23.0</td>\n",
       "      <td>neutral or dissatisfied</td>\n",
       "    </tr>\n",
       "    <tr>\n",
       "      <th>41909</th>\n",
       "      <td>59999</td>\n",
       "      <td>Female</td>\n",
       "      <td>Loyal Customer</td>\n",
       "      <td>18</td>\n",
       "      <td>Personal Travel</td>\n",
       "      <td>Eco</td>\n",
       "      <td>937</td>\n",
       "      <td>2</td>\n",
       "      <td>5</td>\n",
       "      <td>2</td>\n",
       "      <td>...</td>\n",
       "      <td>1</td>\n",
       "      <td>5</td>\n",
       "      <td>2</td>\n",
       "      <td>2</td>\n",
       "      <td>1</td>\n",
       "      <td>1</td>\n",
       "      <td>1</td>\n",
       "      <td>0</td>\n",
       "      <td>0.0</td>\n",
       "      <td>neutral or dissatisfied</td>\n",
       "    </tr>\n",
       "  </tbody>\n",
       "</table>\n",
       "<p>5 rows × 24 columns</p>\n",
       "</div>"
      ],
      "text/plain": [
       "           id  Gender      Customer Type  Age   Type of Travel Class  \\\n",
       "85208  123908  Female     Loyal Customer   69  Personal Travel   Eco   \n",
       "31633  107130    Male     Loyal Customer   31  Personal Travel   Eco   \n",
       "10425   69734  Female     Loyal Customer   62  Personal Travel   Eco   \n",
       "64557   99343  Female  disloyal Customer   41  Business travel   Eco   \n",
       "41909   59999  Female     Loyal Customer   18  Personal Travel   Eco   \n",
       "\n",
       "       Flight Distance  Inflight wifi service  \\\n",
       "85208              546                      2   \n",
       "31633              842                      3   \n",
       "10425             1372                      3   \n",
       "64557             1771                      3   \n",
       "41909              937                      2   \n",
       "\n",
       "       Departure/Arrival time convenient  Ease of Online booking  ...  \\\n",
       "85208                                  5                       2  ...   \n",
       "31633                                  5                       3  ...   \n",
       "10425                                  4                       2  ...   \n",
       "64557                                  3                       3  ...   \n",
       "41909                                  5                       2  ...   \n",
       "\n",
       "       Inflight entertainment  On-board service  Leg room service  \\\n",
       "85208                       4                 4                 2   \n",
       "31633                       1                 4                 3   \n",
       "10425                       1                 1                 2   \n",
       "64557                       2                 4                 4   \n",
       "41909                       1                 5                 2   \n",
       "\n",
       "       Baggage handling  Checkin service  Inflight service  Cleanliness  \\\n",
       "85208                 4                4                 4            2   \n",
       "31633                 5                5                 4            1   \n",
       "10425                 1                3                 1            4   \n",
       "64557                 2                3                 4            2   \n",
       "41909                 2                1                 1            1   \n",
       "\n",
       "       Departure Delay in Minutes  Arrival Delay in Minutes  \\\n",
       "85208                           0                       0.0   \n",
       "31633                          35                      16.0   \n",
       "10425                           0                       0.0   \n",
       "64557                          20                      23.0   \n",
       "41909                           0                       0.0   \n",
       "\n",
       "                  satisfaction  \n",
       "85208  neutral or dissatisfied  \n",
       "31633  neutral or dissatisfied  \n",
       "10425  neutral or dissatisfied  \n",
       "64557  neutral or dissatisfied  \n",
       "41909  neutral or dissatisfied  \n",
       "\n",
       "[5 rows x 24 columns]"
      ]
     },
     "execution_count": 41,
     "metadata": {},
     "output_type": "execute_result"
    }
   ],
   "source": [
    "df_new.head()"
   ]
  },
  {
   "cell_type": "code",
   "execution_count": null,
   "id": "be1a4ecb-c915-43b0-90d9-9e448886d136",
   "metadata": {},
   "outputs": [],
   "source": []
  },
  {
   "cell_type": "code",
   "execution_count": null,
   "id": "d0135ae6-b86a-44d3-abdb-6e797824ad13",
   "metadata": {},
   "outputs": [],
   "source": []
  },
  {
   "cell_type": "code",
   "execution_count": null,
   "id": "e99397ee-4ed1-4e61-916b-4431eae2cc7c",
   "metadata": {},
   "outputs": [],
   "source": []
  },
  {
   "cell_type": "code",
   "execution_count": null,
   "id": "5a152008-b8fc-4286-b5b6-c7d267b5985e",
   "metadata": {},
   "outputs": [],
   "source": []
  },
  {
   "cell_type": "code",
   "execution_count": null,
   "id": "a34a400d-d6c1-4c7f-9188-88262d78c1ff",
   "metadata": {},
   "outputs": [],
   "source": []
  },
  {
   "cell_type": "code",
   "execution_count": null,
   "id": "a5aa2748-d473-4272-81e3-6f5364edc0ab",
   "metadata": {},
   "outputs": [],
   "source": []
  },
  {
   "cell_type": "code",
   "execution_count": null,
   "id": "b598c91a-8250-456d-9450-6b4532446170",
   "metadata": {},
   "outputs": [],
   "source": []
  },
  {
   "cell_type": "code",
   "execution_count": null,
   "id": "51d6b0bd-98af-4cfc-a418-bc522dc9ca40",
   "metadata": {},
   "outputs": [],
   "source": []
  },
  {
   "cell_type": "code",
   "execution_count": null,
   "id": "447c3998-1629-4433-bee9-c9ccdf36693b",
   "metadata": {},
   "outputs": [],
   "source": []
  },
  {
   "cell_type": "code",
   "execution_count": null,
   "id": "d579fc47-4c46-44fd-92f4-f9166e218c22",
   "metadata": {},
   "outputs": [],
   "source": []
  },
  {
   "cell_type": "code",
   "execution_count": null,
   "id": "151d41a6-914f-4765-ab9b-fce4c1f6edde",
   "metadata": {},
   "outputs": [],
   "source": []
  }
 ],
 "metadata": {
  "kernelspec": {
   "display_name": "Python 3 (ipykernel)",
   "language": "python",
   "name": "python3"
  },
  "language_info": {
   "codemirror_mode": {
    "name": "ipython",
    "version": 3
   },
   "file_extension": ".py",
   "mimetype": "text/x-python",
   "name": "python",
   "nbconvert_exporter": "python",
   "pygments_lexer": "ipython3",
   "version": "3.10.6"
  }
 },
 "nbformat": 4,
 "nbformat_minor": 5
}
